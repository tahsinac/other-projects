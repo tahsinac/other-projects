{
  "nbformat": 4,
  "nbformat_minor": 0,
  "metadata": {
    "colab": {
      "name": "sales_prediction.ipynb",
      "version": "0.3.2",
      "provenance": [],
      "toc_visible": true
    },
    "kernelspec": {
      "name": "python3",
      "display_name": "Python 3"
    },
    "accelerator": "TPU"
  },
  "cells": [
    {
      "metadata": {
        "id": "B7S4U8kWqgAb",
        "colab_type": "text"
      },
      "cell_type": "markdown",
      "source": [
        "# Introduction\n",
        "\n",
        "Rossmann operates over 3,000 drug stores in 7 European countries. Currently, Rossmann store managers are tasked with predicting their daily sales for up to six weeks in advance. Store sales are influenced by many factors, including promotions, competition, school and state holidays, seasonality, and locality. With thousands of individual managers predicting sales based on their unique circumstances, the accuracy of results can be quite varied.\n",
        "\n",
        "The main aim of this project is to predict 6 weeks of daily sales for 1,115 stores located across Germany. Reliable sales forecasts enable store managers to create effective staff schedules that increase productivity and motivation. A Robust prediction Model will allow Rossman store managers to stay focused on what’s most important to them: their customers and their teams! "
      ]
    },
    {
      "metadata": {
        "id": "a7Xb2xVdrGwN",
        "colab_type": "text"
      },
      "cell_type": "markdown",
      "source": [
        "# The Dataset"
      ]
    },
    {
      "metadata": {
        "id": "bFc7l-q7V2w5",
        "colab_type": "code",
        "colab": {
          "base_uri": "https://localhost:8080/",
          "height": 128
        },
        "outputId": "fa496c7c-e616-40f0-95eb-f0c14f364683"
      },
      "cell_type": "code",
      "source": [
        "from google.colab import drive\n",
        "drive.mount('/content/gdrive')"
      ],
      "execution_count": 1,
      "outputs": [
        {
          "output_type": "stream",
          "text": [
            "Go to this URL in a browser: https://accounts.google.com/o/oauth2/auth?client_id=947318989803-6bn6qk8qdgf4n4g3pfee6491hc0brc4i.apps.googleusercontent.com&redirect_uri=urn%3Aietf%3Awg%3Aoauth%3A2.0%3Aoob&scope=email%20https%3A%2F%2Fwww.googleapis.com%2Fauth%2Fdocs.test%20https%3A%2F%2Fwww.googleapis.com%2Fauth%2Fdrive%20https%3A%2F%2Fwww.googleapis.com%2Fauth%2Fdrive.photos.readonly%20https%3A%2F%2Fwww.googleapis.com%2Fauth%2Fpeopleapi.readonly&response_type=code\n",
            "\n",
            "Enter your authorization code:\n",
            "··········\n",
            "Mounted at /content/gdrive\n"
          ],
          "name": "stdout"
        }
      ]
    },
    {
      "metadata": {
        "id": "7cKjyseHWDrp",
        "colab_type": "code",
        "colab": {}
      },
      "cell_type": "code",
      "source": [
        "import pandas as pd\n",
        "import numpy as np\n",
        "import seaborn as sns\n",
        "import matplotlib.pyplot as plt\n",
        "import seaborn as sns\n",
        "%matplotlib inline"
      ],
      "execution_count": 0,
      "outputs": []
    },
    {
      "metadata": {
        "id": "eGv7RGMyqNGQ",
        "colab_type": "text"
      },
      "cell_type": "markdown",
      "source": [
        "The dataset for this project can be found [here](https://www.kaggle.com/c/rossmann-store-sales/data)."
      ]
    },
    {
      "metadata": {
        "id": "8tpmG4kWWF-X",
        "colab_type": "code",
        "colab": {}
      },
      "cell_type": "code",
      "source": [
        "traindf = pd.read_csv('gdrive/My Drive/Colab Notebooks/Colab Data/train.csv', low_memory=False)\n",
        "store_data = pd.read_csv('gdrive/My Drive/Colab Notebooks/Colab Data/store.csv')"
      ],
      "execution_count": 0,
      "outputs": []
    },
    {
      "metadata": {
        "id": "D8gp1WD4WSz2",
        "colab_type": "code",
        "colab": {
          "base_uri": "https://localhost:8080/",
          "height": 138
        },
        "outputId": "1e357431-323e-4d4a-ae7c-1dba5134c842"
      },
      "cell_type": "code",
      "source": [
        "traindf.head(3)"
      ],
      "execution_count": 4,
      "outputs": [
        {
          "output_type": "execute_result",
          "data": {
            "text/html": [
              "<div>\n",
              "<style scoped>\n",
              "    .dataframe tbody tr th:only-of-type {\n",
              "        vertical-align: middle;\n",
              "    }\n",
              "\n",
              "    .dataframe tbody tr th {\n",
              "        vertical-align: top;\n",
              "    }\n",
              "\n",
              "    .dataframe thead th {\n",
              "        text-align: right;\n",
              "    }\n",
              "</style>\n",
              "<table border=\"1\" class=\"dataframe\">\n",
              "  <thead>\n",
              "    <tr style=\"text-align: right;\">\n",
              "      <th></th>\n",
              "      <th>Store</th>\n",
              "      <th>DayOfWeek</th>\n",
              "      <th>Date</th>\n",
              "      <th>Sales</th>\n",
              "      <th>Customers</th>\n",
              "      <th>Open</th>\n",
              "      <th>Promo</th>\n",
              "      <th>StateHoliday</th>\n",
              "      <th>SchoolHoliday</th>\n",
              "    </tr>\n",
              "  </thead>\n",
              "  <tbody>\n",
              "    <tr>\n",
              "      <th>0</th>\n",
              "      <td>1</td>\n",
              "      <td>5</td>\n",
              "      <td>2015-07-31</td>\n",
              "      <td>5263</td>\n",
              "      <td>555</td>\n",
              "      <td>1</td>\n",
              "      <td>1</td>\n",
              "      <td>0</td>\n",
              "      <td>1</td>\n",
              "    </tr>\n",
              "    <tr>\n",
              "      <th>1</th>\n",
              "      <td>2</td>\n",
              "      <td>5</td>\n",
              "      <td>2015-07-31</td>\n",
              "      <td>6064</td>\n",
              "      <td>625</td>\n",
              "      <td>1</td>\n",
              "      <td>1</td>\n",
              "      <td>0</td>\n",
              "      <td>1</td>\n",
              "    </tr>\n",
              "    <tr>\n",
              "      <th>2</th>\n",
              "      <td>3</td>\n",
              "      <td>5</td>\n",
              "      <td>2015-07-31</td>\n",
              "      <td>8314</td>\n",
              "      <td>821</td>\n",
              "      <td>1</td>\n",
              "      <td>1</td>\n",
              "      <td>0</td>\n",
              "      <td>1</td>\n",
              "    </tr>\n",
              "  </tbody>\n",
              "</table>\n",
              "</div>"
            ],
            "text/plain": [
              "   Store  DayOfWeek        Date  Sales  Customers  Open  Promo StateHoliday  \\\n",
              "0      1          5  2015-07-31   5263        555     1      1            0   \n",
              "1      2          5  2015-07-31   6064        625     1      1            0   \n",
              "2      3          5  2015-07-31   8314        821     1      1            0   \n",
              "\n",
              "   SchoolHoliday  \n",
              "0              1  \n",
              "1              1  \n",
              "2              1  "
            ]
          },
          "metadata": {
            "tags": []
          },
          "execution_count": 4
        }
      ]
    },
    {
      "metadata": {
        "id": "LdUtZxwJWTae",
        "colab_type": "code",
        "colab": {
          "base_uri": "https://localhost:8080/",
          "height": 35
        },
        "outputId": "297f4f56-e2d9-461b-c242-f95e3235f252"
      },
      "cell_type": "code",
      "source": [
        "traindf.shape"
      ],
      "execution_count": 5,
      "outputs": [
        {
          "output_type": "execute_result",
          "data": {
            "text/plain": [
              "(1017209, 9)"
            ]
          },
          "metadata": {
            "tags": []
          },
          "execution_count": 5
        }
      ]
    },
    {
      "metadata": {
        "id": "uV1MgUY5WZ9O",
        "colab_type": "code",
        "colab": {
          "base_uri": "https://localhost:8080/",
          "height": 138
        },
        "outputId": "b1524c23-e536-4920-f8e7-baf0d026aa17"
      },
      "cell_type": "code",
      "source": [
        "store_data.head(3)"
      ],
      "execution_count": 6,
      "outputs": [
        {
          "output_type": "execute_result",
          "data": {
            "text/html": [
              "<div>\n",
              "<style scoped>\n",
              "    .dataframe tbody tr th:only-of-type {\n",
              "        vertical-align: middle;\n",
              "    }\n",
              "\n",
              "    .dataframe tbody tr th {\n",
              "        vertical-align: top;\n",
              "    }\n",
              "\n",
              "    .dataframe thead th {\n",
              "        text-align: right;\n",
              "    }\n",
              "</style>\n",
              "<table border=\"1\" class=\"dataframe\">\n",
              "  <thead>\n",
              "    <tr style=\"text-align: right;\">\n",
              "      <th></th>\n",
              "      <th>Store</th>\n",
              "      <th>StoreType</th>\n",
              "      <th>Assortment</th>\n",
              "      <th>CompetitionDistance</th>\n",
              "      <th>CompetitionOpenSinceMonth</th>\n",
              "      <th>CompetitionOpenSinceYear</th>\n",
              "      <th>Promo2</th>\n",
              "      <th>Promo2SinceWeek</th>\n",
              "      <th>Promo2SinceYear</th>\n",
              "      <th>PromoInterval</th>\n",
              "    </tr>\n",
              "  </thead>\n",
              "  <tbody>\n",
              "    <tr>\n",
              "      <th>0</th>\n",
              "      <td>1</td>\n",
              "      <td>c</td>\n",
              "      <td>a</td>\n",
              "      <td>1270.0</td>\n",
              "      <td>9.0</td>\n",
              "      <td>2008.0</td>\n",
              "      <td>0</td>\n",
              "      <td>NaN</td>\n",
              "      <td>NaN</td>\n",
              "      <td>NaN</td>\n",
              "    </tr>\n",
              "    <tr>\n",
              "      <th>1</th>\n",
              "      <td>2</td>\n",
              "      <td>a</td>\n",
              "      <td>a</td>\n",
              "      <td>570.0</td>\n",
              "      <td>11.0</td>\n",
              "      <td>2007.0</td>\n",
              "      <td>1</td>\n",
              "      <td>13.0</td>\n",
              "      <td>2010.0</td>\n",
              "      <td>Jan,Apr,Jul,Oct</td>\n",
              "    </tr>\n",
              "    <tr>\n",
              "      <th>2</th>\n",
              "      <td>3</td>\n",
              "      <td>a</td>\n",
              "      <td>a</td>\n",
              "      <td>14130.0</td>\n",
              "      <td>12.0</td>\n",
              "      <td>2006.0</td>\n",
              "      <td>1</td>\n",
              "      <td>14.0</td>\n",
              "      <td>2011.0</td>\n",
              "      <td>Jan,Apr,Jul,Oct</td>\n",
              "    </tr>\n",
              "  </tbody>\n",
              "</table>\n",
              "</div>"
            ],
            "text/plain": [
              "   Store StoreType Assortment  CompetitionDistance  CompetitionOpenSinceMonth  \\\n",
              "0      1         c          a               1270.0                        9.0   \n",
              "1      2         a          a                570.0                       11.0   \n",
              "2      3         a          a              14130.0                       12.0   \n",
              "\n",
              "   CompetitionOpenSinceYear  Promo2  Promo2SinceWeek  Promo2SinceYear  \\\n",
              "0                    2008.0       0              NaN              NaN   \n",
              "1                    2007.0       1             13.0           2010.0   \n",
              "2                    2006.0       1             14.0           2011.0   \n",
              "\n",
              "     PromoInterval  \n",
              "0              NaN  \n",
              "1  Jan,Apr,Jul,Oct  \n",
              "2  Jan,Apr,Jul,Oct  "
            ]
          },
          "metadata": {
            "tags": []
          },
          "execution_count": 6
        }
      ]
    },
    {
      "metadata": {
        "id": "ABQvh1eiXN9T",
        "colab_type": "code",
        "colab": {
          "base_uri": "https://localhost:8080/",
          "height": 35
        },
        "outputId": "b5ecd9a9-2d1c-4662-e2e3-b77ad2c90b0e"
      },
      "cell_type": "code",
      "source": [
        "store_data.shape"
      ],
      "execution_count": 7,
      "outputs": [
        {
          "output_type": "execute_result",
          "data": {
            "text/plain": [
              "(1115, 10)"
            ]
          },
          "metadata": {
            "tags": []
          },
          "execution_count": 7
        }
      ]
    },
    {
      "metadata": {
        "id": "nYBxDif9Xtj6",
        "colab_type": "code",
        "colab": {}
      },
      "cell_type": "code",
      "source": [
        "stores = traindf.merge(store_data, how = 'left', on = 'Store')"
      ],
      "execution_count": 0,
      "outputs": []
    },
    {
      "metadata": {
        "id": "nUHbLaMYYwsO",
        "colab_type": "code",
        "colab": {
          "base_uri": "https://localhost:8080/",
          "height": 210
        },
        "outputId": "169df7e2-5290-473d-c2b3-cfa682d50085"
      },
      "cell_type": "code",
      "source": [
        "stores.head(3)"
      ],
      "execution_count": 9,
      "outputs": [
        {
          "output_type": "execute_result",
          "data": {
            "text/html": [
              "<div>\n",
              "<style scoped>\n",
              "    .dataframe tbody tr th:only-of-type {\n",
              "        vertical-align: middle;\n",
              "    }\n",
              "\n",
              "    .dataframe tbody tr th {\n",
              "        vertical-align: top;\n",
              "    }\n",
              "\n",
              "    .dataframe thead th {\n",
              "        text-align: right;\n",
              "    }\n",
              "</style>\n",
              "<table border=\"1\" class=\"dataframe\">\n",
              "  <thead>\n",
              "    <tr style=\"text-align: right;\">\n",
              "      <th></th>\n",
              "      <th>Store</th>\n",
              "      <th>DayOfWeek</th>\n",
              "      <th>Date</th>\n",
              "      <th>Sales</th>\n",
              "      <th>Customers</th>\n",
              "      <th>Open</th>\n",
              "      <th>Promo</th>\n",
              "      <th>StateHoliday</th>\n",
              "      <th>SchoolHoliday</th>\n",
              "      <th>StoreType</th>\n",
              "      <th>Assortment</th>\n",
              "      <th>CompetitionDistance</th>\n",
              "      <th>CompetitionOpenSinceMonth</th>\n",
              "      <th>CompetitionOpenSinceYear</th>\n",
              "      <th>Promo2</th>\n",
              "      <th>Promo2SinceWeek</th>\n",
              "      <th>Promo2SinceYear</th>\n",
              "      <th>PromoInterval</th>\n",
              "    </tr>\n",
              "  </thead>\n",
              "  <tbody>\n",
              "    <tr>\n",
              "      <th>0</th>\n",
              "      <td>1</td>\n",
              "      <td>5</td>\n",
              "      <td>2015-07-31</td>\n",
              "      <td>5263</td>\n",
              "      <td>555</td>\n",
              "      <td>1</td>\n",
              "      <td>1</td>\n",
              "      <td>0</td>\n",
              "      <td>1</td>\n",
              "      <td>c</td>\n",
              "      <td>a</td>\n",
              "      <td>1270.0</td>\n",
              "      <td>9.0</td>\n",
              "      <td>2008.0</td>\n",
              "      <td>0</td>\n",
              "      <td>NaN</td>\n",
              "      <td>NaN</td>\n",
              "      <td>NaN</td>\n",
              "    </tr>\n",
              "    <tr>\n",
              "      <th>1</th>\n",
              "      <td>2</td>\n",
              "      <td>5</td>\n",
              "      <td>2015-07-31</td>\n",
              "      <td>6064</td>\n",
              "      <td>625</td>\n",
              "      <td>1</td>\n",
              "      <td>1</td>\n",
              "      <td>0</td>\n",
              "      <td>1</td>\n",
              "      <td>a</td>\n",
              "      <td>a</td>\n",
              "      <td>570.0</td>\n",
              "      <td>11.0</td>\n",
              "      <td>2007.0</td>\n",
              "      <td>1</td>\n",
              "      <td>13.0</td>\n",
              "      <td>2010.0</td>\n",
              "      <td>Jan,Apr,Jul,Oct</td>\n",
              "    </tr>\n",
              "    <tr>\n",
              "      <th>2</th>\n",
              "      <td>3</td>\n",
              "      <td>5</td>\n",
              "      <td>2015-07-31</td>\n",
              "      <td>8314</td>\n",
              "      <td>821</td>\n",
              "      <td>1</td>\n",
              "      <td>1</td>\n",
              "      <td>0</td>\n",
              "      <td>1</td>\n",
              "      <td>a</td>\n",
              "      <td>a</td>\n",
              "      <td>14130.0</td>\n",
              "      <td>12.0</td>\n",
              "      <td>2006.0</td>\n",
              "      <td>1</td>\n",
              "      <td>14.0</td>\n",
              "      <td>2011.0</td>\n",
              "      <td>Jan,Apr,Jul,Oct</td>\n",
              "    </tr>\n",
              "  </tbody>\n",
              "</table>\n",
              "</div>"
            ],
            "text/plain": [
              "   Store  DayOfWeek        Date  Sales  Customers  Open  Promo StateHoliday  \\\n",
              "0      1          5  2015-07-31   5263        555     1      1            0   \n",
              "1      2          5  2015-07-31   6064        625     1      1            0   \n",
              "2      3          5  2015-07-31   8314        821     1      1            0   \n",
              "\n",
              "   SchoolHoliday StoreType Assortment  CompetitionDistance  \\\n",
              "0              1         c          a               1270.0   \n",
              "1              1         a          a                570.0   \n",
              "2              1         a          a              14130.0   \n",
              "\n",
              "   CompetitionOpenSinceMonth  CompetitionOpenSinceYear  Promo2  \\\n",
              "0                        9.0                    2008.0       0   \n",
              "1                       11.0                    2007.0       1   \n",
              "2                       12.0                    2006.0       1   \n",
              "\n",
              "   Promo2SinceWeek  Promo2SinceYear    PromoInterval  \n",
              "0              NaN              NaN              NaN  \n",
              "1             13.0           2010.0  Jan,Apr,Jul,Oct  \n",
              "2             14.0           2011.0  Jan,Apr,Jul,Oct  "
            ]
          },
          "metadata": {
            "tags": []
          },
          "execution_count": 9
        }
      ]
    },
    {
      "metadata": {
        "id": "_ZV3lBiRbVCB",
        "colab_type": "text"
      },
      "cell_type": "markdown",
      "source": [
        "***Columns***\n",
        "\n",
        "* **Store** - a unique Id for each store\n",
        "* **Sales** - the turnover for any given day (this is what you are predicting)\n",
        "* **Customers** - the number of customers on a given day\n",
        "* **Open** - an indicator for whether the store was open: 0 = closed, 1 = open\n",
        "* **StateHoliday** - indicates a state holiday. Normally all stores, with few exceptions, are closed on state holidays. Note that all schools are closed on public holidays and weekends. a = public holiday, b = Easter holiday, c = Christmas, 0 = None\n",
        "* **SchoolHoliday** - indicates if the (Store, Date) was affected by the closure of public schools\n",
        "* **StoreType** - differentiates between 4 different store models: a, b, c, d\n",
        "* **Assortment** - describes an assortment level: a = basic, b = extra, c = extended\n",
        "* **CompetitionDistance** - distance in meters to the nearest competitor store\n",
        "* **CompetitionOpenSince[Month/Year] **- gives the approximate year and month of the time the nearest competitor was opened\n",
        "* **Promo** - indicates whether a store is running a promo on that day\n",
        "* **Promo2** - Promo2 is a continuing and consecutive promotion for some stores: 0 = store is not participating, 1 = store is participating\n",
        "* **Promo2Since[Year/Week]** - describes the year and calendar week when the store started participating in Promo2\n",
        "* **PromoInterval** - describes the consecutive intervals Promo2 is started, naming the months the promotion is started anew. E.g. \"Feb,May,Aug,Nov\" means each round starts in February, May, August, November of any given year for that store"
      ]
    },
    {
      "metadata": {
        "id": "bbGU0KkGalKq",
        "colab_type": "code",
        "colab": {
          "base_uri": "https://localhost:8080/",
          "height": 345
        },
        "outputId": "7f805849-8548-4f41-e3ef-90c7acd7eb29"
      },
      "cell_type": "code",
      "source": [
        "for c in stores.columns:\n",
        "  print('{0} datatype : {1}'.format(c, stores[c].dtype))"
      ],
      "execution_count": 10,
      "outputs": [
        {
          "output_type": "stream",
          "text": [
            "Store datatype : int64\n",
            "DayOfWeek datatype : int64\n",
            "Date datatype : object\n",
            "Sales datatype : int64\n",
            "Customers datatype : int64\n",
            "Open datatype : int64\n",
            "Promo datatype : int64\n",
            "StateHoliday datatype : object\n",
            "SchoolHoliday datatype : int64\n",
            "StoreType datatype : object\n",
            "Assortment datatype : object\n",
            "CompetitionDistance datatype : float64\n",
            "CompetitionOpenSinceMonth datatype : float64\n",
            "CompetitionOpenSinceYear datatype : float64\n",
            "Promo2 datatype : int64\n",
            "Promo2SinceWeek datatype : float64\n",
            "Promo2SinceYear datatype : float64\n",
            "PromoInterval datatype : object\n"
          ],
          "name": "stdout"
        }
      ]
    },
    {
      "metadata": {
        "id": "Egk9skYVbMnQ",
        "colab_type": "code",
        "colab": {}
      },
      "cell_type": "code",
      "source": [
        "stores['Date'] = pd.to_datetime(stores['Date'])"
      ],
      "execution_count": 0,
      "outputs": []
    },
    {
      "metadata": {
        "id": "XsGR_AKz64lr",
        "colab_type": "code",
        "colab": {}
      },
      "cell_type": "code",
      "source": [
        "stores['Date_month'] = stores['Date'].dt.month\n",
        "stores['Date_day'] = stores['Date'].dt.day\n",
        "stores['Date_year'] = stores['Date'].dt.year"
      ],
      "execution_count": 0,
      "outputs": []
    },
    {
      "metadata": {
        "id": "KQZu2kr5HBtv",
        "colab_type": "code",
        "colab": {
          "base_uri": "https://localhost:8080/",
          "height": 239
        },
        "outputId": "7f9b0e2d-e8c7-4df8-fccf-1535e7d582e1"
      },
      "cell_type": "code",
      "source": [
        "stores.head(3)"
      ],
      "execution_count": 13,
      "outputs": [
        {
          "output_type": "execute_result",
          "data": {
            "text/html": [
              "<div>\n",
              "<style scoped>\n",
              "    .dataframe tbody tr th:only-of-type {\n",
              "        vertical-align: middle;\n",
              "    }\n",
              "\n",
              "    .dataframe tbody tr th {\n",
              "        vertical-align: top;\n",
              "    }\n",
              "\n",
              "    .dataframe thead th {\n",
              "        text-align: right;\n",
              "    }\n",
              "</style>\n",
              "<table border=\"1\" class=\"dataframe\">\n",
              "  <thead>\n",
              "    <tr style=\"text-align: right;\">\n",
              "      <th></th>\n",
              "      <th>Store</th>\n",
              "      <th>DayOfWeek</th>\n",
              "      <th>Date</th>\n",
              "      <th>Sales</th>\n",
              "      <th>Customers</th>\n",
              "      <th>Open</th>\n",
              "      <th>Promo</th>\n",
              "      <th>StateHoliday</th>\n",
              "      <th>SchoolHoliday</th>\n",
              "      <th>StoreType</th>\n",
              "      <th>...</th>\n",
              "      <th>CompetitionDistance</th>\n",
              "      <th>CompetitionOpenSinceMonth</th>\n",
              "      <th>CompetitionOpenSinceYear</th>\n",
              "      <th>Promo2</th>\n",
              "      <th>Promo2SinceWeek</th>\n",
              "      <th>Promo2SinceYear</th>\n",
              "      <th>PromoInterval</th>\n",
              "      <th>Date_month</th>\n",
              "      <th>Date_day</th>\n",
              "      <th>Date_year</th>\n",
              "    </tr>\n",
              "  </thead>\n",
              "  <tbody>\n",
              "    <tr>\n",
              "      <th>0</th>\n",
              "      <td>1</td>\n",
              "      <td>5</td>\n",
              "      <td>2015-07-31</td>\n",
              "      <td>5263</td>\n",
              "      <td>555</td>\n",
              "      <td>1</td>\n",
              "      <td>1</td>\n",
              "      <td>0</td>\n",
              "      <td>1</td>\n",
              "      <td>c</td>\n",
              "      <td>...</td>\n",
              "      <td>1270.0</td>\n",
              "      <td>9.0</td>\n",
              "      <td>2008.0</td>\n",
              "      <td>0</td>\n",
              "      <td>NaN</td>\n",
              "      <td>NaN</td>\n",
              "      <td>NaN</td>\n",
              "      <td>7</td>\n",
              "      <td>31</td>\n",
              "      <td>2015</td>\n",
              "    </tr>\n",
              "    <tr>\n",
              "      <th>1</th>\n",
              "      <td>2</td>\n",
              "      <td>5</td>\n",
              "      <td>2015-07-31</td>\n",
              "      <td>6064</td>\n",
              "      <td>625</td>\n",
              "      <td>1</td>\n",
              "      <td>1</td>\n",
              "      <td>0</td>\n",
              "      <td>1</td>\n",
              "      <td>a</td>\n",
              "      <td>...</td>\n",
              "      <td>570.0</td>\n",
              "      <td>11.0</td>\n",
              "      <td>2007.0</td>\n",
              "      <td>1</td>\n",
              "      <td>13.0</td>\n",
              "      <td>2010.0</td>\n",
              "      <td>Jan,Apr,Jul,Oct</td>\n",
              "      <td>7</td>\n",
              "      <td>31</td>\n",
              "      <td>2015</td>\n",
              "    </tr>\n",
              "    <tr>\n",
              "      <th>2</th>\n",
              "      <td>3</td>\n",
              "      <td>5</td>\n",
              "      <td>2015-07-31</td>\n",
              "      <td>8314</td>\n",
              "      <td>821</td>\n",
              "      <td>1</td>\n",
              "      <td>1</td>\n",
              "      <td>0</td>\n",
              "      <td>1</td>\n",
              "      <td>a</td>\n",
              "      <td>...</td>\n",
              "      <td>14130.0</td>\n",
              "      <td>12.0</td>\n",
              "      <td>2006.0</td>\n",
              "      <td>1</td>\n",
              "      <td>14.0</td>\n",
              "      <td>2011.0</td>\n",
              "      <td>Jan,Apr,Jul,Oct</td>\n",
              "      <td>7</td>\n",
              "      <td>31</td>\n",
              "      <td>2015</td>\n",
              "    </tr>\n",
              "  </tbody>\n",
              "</table>\n",
              "<p>3 rows × 21 columns</p>\n",
              "</div>"
            ],
            "text/plain": [
              "   Store  DayOfWeek       Date  Sales  Customers  Open  Promo StateHoliday  \\\n",
              "0      1          5 2015-07-31   5263        555     1      1            0   \n",
              "1      2          5 2015-07-31   6064        625     1      1            0   \n",
              "2      3          5 2015-07-31   8314        821     1      1            0   \n",
              "\n",
              "   SchoolHoliday StoreType    ...     CompetitionDistance  \\\n",
              "0              1         c    ...                  1270.0   \n",
              "1              1         a    ...                   570.0   \n",
              "2              1         a    ...                 14130.0   \n",
              "\n",
              "   CompetitionOpenSinceMonth  CompetitionOpenSinceYear  Promo2  \\\n",
              "0                        9.0                    2008.0       0   \n",
              "1                       11.0                    2007.0       1   \n",
              "2                       12.0                    2006.0       1   \n",
              "\n",
              "   Promo2SinceWeek  Promo2SinceYear    PromoInterval Date_month  Date_day  \\\n",
              "0              NaN              NaN              NaN          7        31   \n",
              "1             13.0           2010.0  Jan,Apr,Jul,Oct          7        31   \n",
              "2             14.0           2011.0  Jan,Apr,Jul,Oct          7        31   \n",
              "\n",
              "   Date_year  \n",
              "0       2015  \n",
              "1       2015  \n",
              "2       2015  \n",
              "\n",
              "[3 rows x 21 columns]"
            ]
          },
          "metadata": {
            "tags": []
          },
          "execution_count": 13
        }
      ]
    },
    {
      "metadata": {
        "id": "kD-yBNvwiIlu",
        "colab_type": "code",
        "colab": {
          "base_uri": "https://localhost:8080/",
          "height": 417
        },
        "outputId": "b7a94c30-34ae-4b63-b990-2e76dbf08915"
      },
      "cell_type": "code",
      "source": [
        "stores.isnull().sum()"
      ],
      "execution_count": 14,
      "outputs": [
        {
          "output_type": "execute_result",
          "data": {
            "text/plain": [
              "Store                             0\n",
              "DayOfWeek                         0\n",
              "Date                              0\n",
              "Sales                             0\n",
              "Customers                         0\n",
              "Open                              0\n",
              "Promo                             0\n",
              "StateHoliday                      0\n",
              "SchoolHoliday                     0\n",
              "StoreType                         0\n",
              "Assortment                        0\n",
              "CompetitionDistance            2642\n",
              "CompetitionOpenSinceMonth    323348\n",
              "CompetitionOpenSinceYear     323348\n",
              "Promo2                            0\n",
              "Promo2SinceWeek              508031\n",
              "Promo2SinceYear              508031\n",
              "PromoInterval                508031\n",
              "Date_month                        0\n",
              "Date_day                          0\n",
              "Date_year                         0\n",
              "dtype: int64"
            ]
          },
          "metadata": {
            "tags": []
          },
          "execution_count": 14
        }
      ]
    },
    {
      "metadata": {
        "id": "pHwovL9arKzW",
        "colab_type": "text"
      },
      "cell_type": "markdown",
      "source": [
        "# Exporatory Data Analysis"
      ]
    },
    {
      "metadata": {
        "id": "hNw9iFVGdeRR",
        "colab_type": "text"
      },
      "cell_type": "markdown",
      "source": [
        "### Exploring Records For Closed Stores"
      ]
    },
    {
      "metadata": {
        "id": "yELdi0jiHxEe",
        "colab_type": "code",
        "colab": {
          "base_uri": "https://localhost:8080/",
          "height": 110
        },
        "outputId": "531d6f30-7ab0-4095-978d-538b0883095c"
      },
      "cell_type": "code",
      "source": [
        "print('Total number of times store was closed: {0}'.format(len(stores[stores['Open'] == 0])))\n",
        "print('Total number of times store was closed due to school holiday: {0}'.format(len(stores[(stores['Open'] == 0) & (stores['SchoolHoliday'] == 1) & (stores['StateHoliday'] == '0')])))\n",
        "print('Total number of times store was closed due to state holiday: {0}'.format(len(stores[(stores['Open'] == 0) & (stores['StateHoliday'] != '0')])))\n",
        "print('Total number of times store was closed for refurbishments: {0}'.format((len(stores[stores['Open'] == 0])) - (len(stores[(stores['Open'] == 0) & (stores['SchoolHoliday'] == 1) & (stores['StateHoliday'] == '0')])) - (len(stores[(stores['Open'] == 0) & (stores['StateHoliday'] != '0')]))))"
      ],
      "execution_count": 15,
      "outputs": [
        {
          "output_type": "stream",
          "text": [
            "Total number of times store was closed: 172817\n",
            "Total number of times store was closed due to school holiday: 3067\n",
            "Total number of times store was closed due to state holiday: 30140\n",
            "Total number of times store was closed for refurbishments: 139610\n"
          ],
          "name": "stdout"
        }
      ]
    },
    {
      "metadata": {
        "id": "0ZBPo51_di1V",
        "colab_type": "text"
      },
      "cell_type": "markdown",
      "source": [
        "As we want to study and analyze the number of customers and sales for the stores, keeping records where stores were closed is not helpful."
      ]
    },
    {
      "metadata": {
        "id": "Jw4CujuSdiQR",
        "colab_type": "code",
        "colab": {
          "base_uri": "https://localhost:8080/",
          "height": 55
        },
        "outputId": "7c3f2ffe-bbfb-496c-e73d-e1f86960103b"
      },
      "cell_type": "code",
      "source": [
        "stores = stores[stores['Open'] == 1]\n",
        "stores.shape"
      ],
      "execution_count": 16,
      "outputs": [
        {
          "output_type": "execute_result",
          "data": {
            "text/plain": [
              "(844392, 21)"
            ]
          },
          "metadata": {
            "tags": []
          },
          "execution_count": 16
        }
      ]
    },
    {
      "metadata": {
        "id": "Y_xl2BBqggE9",
        "colab_type": "text"
      },
      "cell_type": "markdown",
      "source": [
        "### Exploring Sales & Customers"
      ]
    },
    {
      "metadata": {
        "id": "3L8NTBQqXZmg",
        "colab_type": "code",
        "colab": {}
      },
      "cell_type": "code",
      "source": [
        "stores['SalePerCust'] = stores['Sales'] / stores['Customers']\n",
        "stores['SalePerCust'].fillna(0,inplace=True)"
      ],
      "execution_count": 0,
      "outputs": []
    },
    {
      "metadata": {
        "id": "rO7-Cicdfoa4",
        "colab_type": "code",
        "colab": {
          "base_uri": "https://localhost:8080/",
          "height": 201
        },
        "outputId": "e8b29df9-00be-4784-d29d-ca5b7517b32e"
      },
      "cell_type": "code",
      "source": [
        "stores['Sales'].describe()"
      ],
      "execution_count": 18,
      "outputs": [
        {
          "output_type": "execute_result",
          "data": {
            "text/plain": [
              "count    844392.000000\n",
              "mean       6955.514291\n",
              "std        3104.214680\n",
              "min           0.000000\n",
              "25%        4859.000000\n",
              "50%        6369.000000\n",
              "75%        8360.000000\n",
              "max       41551.000000\n",
              "Name: Sales, dtype: float64"
            ]
          },
          "metadata": {
            "tags": []
          },
          "execution_count": 18
        }
      ]
    },
    {
      "metadata": {
        "id": "V5WbzoXyp6DO",
        "colab_type": "code",
        "colab": {}
      },
      "cell_type": "code",
      "source": [
        "stores = stores[stores['Sales'] > 0]"
      ],
      "execution_count": 0,
      "outputs": []
    },
    {
      "metadata": {
        "id": "TqXy_qxnhDyk",
        "colab_type": "code",
        "colab": {
          "base_uri": "https://localhost:8080/",
          "height": 201
        },
        "outputId": "30a88f29-f1b2-4a90-f583-f1ba8bf8b772"
      },
      "cell_type": "code",
      "source": [
        "stores['Customers'].describe()"
      ],
      "execution_count": 20,
      "outputs": [
        {
          "output_type": "execute_result",
          "data": {
            "text/plain": [
              "count    844338.000000\n",
              "mean        762.777166\n",
              "std         401.194153\n",
              "min           8.000000\n",
              "25%         519.000000\n",
              "50%         676.000000\n",
              "75%         893.000000\n",
              "max        7388.000000\n",
              "Name: Customers, dtype: float64"
            ]
          },
          "metadata": {
            "tags": []
          },
          "execution_count": 20
        }
      ]
    },
    {
      "metadata": {
        "id": "TglJ-ksOknHp",
        "colab_type": "code",
        "colab": {
          "base_uri": "https://localhost:8080/",
          "height": 405
        },
        "outputId": "0f8701ad-affb-4e6a-86fa-e2d5a60442d0"
      },
      "cell_type": "code",
      "source": [
        "fig, ax = plt.subplots(1, 2, figsize=(25,5))\n",
        "sns.boxplot(stores['Sales'], ax = ax[0], width = 0.35)\n",
        "ax[0].set_title('Boxplot For Sales Values')\n",
        "ax[1].hist(stores['Sales'])\n",
        "ax[1].set_title(\"Sales histogram\")\n",
        "plt.show()"
      ],
      "execution_count": 21,
      "outputs": [
        {
          "output_type": "stream",
          "text": [
            "/usr/local/lib/python3.6/dist-packages/seaborn/categorical.py:454: FutureWarning: remove_na is deprecated and is a private function. Do not use.\n",
            "  box_data = remove_na(group_data)\n"
          ],
          "name": "stderr"
        },
        {
          "output_type": "display_data",
          "data": {
            "image/png": "[encoded data removed]",
            "text/plain": [
              "<matplotlib.figure.Figure at 0x7faba34a4358>"
            ]
          },
          "metadata": {
            "tags": []
          }
        }
      ]
    },
    {
      "metadata": {
        "id": "Z3-2h4Qze9K9",
        "colab_type": "code",
        "colab": {
          "base_uri": "https://localhost:8080/",
          "height": 74
        },
        "outputId": "298249b3-ef48-4999-9411-bd4918f213bc"
      },
      "cell_type": "code",
      "source": [
        "print('Mean : {0}\\nMedian: {1}'.format(np.mean(stores['Sales']), np.median(stores['Sales'])))"
      ],
      "execution_count": 22,
      "outputs": [
        {
          "output_type": "stream",
          "text": [
            "Mean : 6955.959133664481\n",
            "Median: 6369.0\n"
          ],
          "name": "stdout"
        }
      ]
    },
    {
      "metadata": {
        "id": "pyZ-L0zUMsP6",
        "colab_type": "code",
        "colab": {
          "base_uri": "https://localhost:8080/",
          "height": 214
        },
        "outputId": "3e447ee7-0da0-434d-edb7-338986ade82f"
      },
      "cell_type": "code",
      "source": [
        "stores[stores['Sales'] > 40000]"
      ],
      "execution_count": 23,
      "outputs": [
        {
          "output_type": "execute_result",
          "data": {
            "text/html": [
              "<div>\n",
              "<style scoped>\n",
              "    .dataframe tbody tr th:only-of-type {\n",
              "        vertical-align: middle;\n",
              "    }\n",
              "\n",
              "    .dataframe tbody tr th {\n",
              "        vertical-align: top;\n",
              "    }\n",
              "\n",
              "    .dataframe thead th {\n",
              "        text-align: right;\n",
              "    }\n",
              "</style>\n",
              "<table border=\"1\" class=\"dataframe\">\n",
              "  <thead>\n",
              "    <tr style=\"text-align: right;\">\n",
              "      <th></th>\n",
              "      <th>Store</th>\n",
              "      <th>DayOfWeek</th>\n",
              "      <th>Date</th>\n",
              "      <th>Sales</th>\n",
              "      <th>Customers</th>\n",
              "      <th>Open</th>\n",
              "      <th>Promo</th>\n",
              "      <th>StateHoliday</th>\n",
              "      <th>SchoolHoliday</th>\n",
              "      <th>StoreType</th>\n",
              "      <th>...</th>\n",
              "      <th>CompetitionOpenSinceMonth</th>\n",
              "      <th>CompetitionOpenSinceYear</th>\n",
              "      <th>Promo2</th>\n",
              "      <th>Promo2SinceWeek</th>\n",
              "      <th>Promo2SinceYear</th>\n",
              "      <th>PromoInterval</th>\n",
              "      <th>Date_month</th>\n",
              "      <th>Date_day</th>\n",
              "      <th>Date_year</th>\n",
              "      <th>SalePerCust</th>\n",
              "    </tr>\n",
              "  </thead>\n",
              "  <tbody>\n",
              "    <tr>\n",
              "      <th>44393</th>\n",
              "      <td>909</td>\n",
              "      <td>1</td>\n",
              "      <td>2015-06-22</td>\n",
              "      <td>41551</td>\n",
              "      <td>1721</td>\n",
              "      <td>1</td>\n",
              "      <td>0</td>\n",
              "      <td>0</td>\n",
              "      <td>0</td>\n",
              "      <td>a</td>\n",
              "      <td>...</td>\n",
              "      <td>NaN</td>\n",
              "      <td>NaN</td>\n",
              "      <td>1</td>\n",
              "      <td>45.0</td>\n",
              "      <td>2009.0</td>\n",
              "      <td>Feb,May,Aug,Nov</td>\n",
              "      <td>6</td>\n",
              "      <td>22</td>\n",
              "      <td>2015</td>\n",
              "      <td>24.143521</td>\n",
              "    </tr>\n",
              "  </tbody>\n",
              "</table>\n",
              "<p>1 rows × 22 columns</p>\n",
              "</div>"
            ],
            "text/plain": [
              "       Store  DayOfWeek       Date  Sales  Customers  Open  Promo  \\\n",
              "44393    909          1 2015-06-22  41551       1721     1      0   \n",
              "\n",
              "      StateHoliday  SchoolHoliday StoreType     ...       \\\n",
              "44393            0              0         a     ...        \n",
              "\n",
              "      CompetitionOpenSinceMonth  CompetitionOpenSinceYear  Promo2  \\\n",
              "44393                       NaN                       NaN       1   \n",
              "\n",
              "       Promo2SinceWeek  Promo2SinceYear    PromoInterval  Date_month Date_day  \\\n",
              "44393             45.0           2009.0  Feb,May,Aug,Nov           6       22   \n",
              "\n",
              "       Date_year  SalePerCust  \n",
              "44393       2015    24.143521  \n",
              "\n",
              "[1 rows x 22 columns]"
            ]
          },
          "metadata": {
            "tags": []
          },
          "execution_count": 23
        }
      ]
    },
    {
      "metadata": {
        "id": "tuGdprZRcTgH",
        "colab_type": "code",
        "colab": {
          "base_uri": "https://localhost:8080/",
          "height": 74
        },
        "outputId": "b8808154-6aa4-4264-ee71-f5268f1e0e68"
      },
      "cell_type": "code",
      "source": [
        "print('There are {} datapoints where sales are greater than 14000.'.format(stores[(stores['Sales'] > 14000)].shape[0]))\n",
        "print('There are {} datapoints where sales are greater than 14000 with no promo running.'.format(stores[(stores['Sales'] > 14000) & (stores['Promo'] == 0)].shape[0]))"
      ],
      "execution_count": 24,
      "outputs": [
        {
          "output_type": "stream",
          "text": [
            "There are 27113 datapoints where sales are greater than 14000.\n",
            "There are 7613 datapoints where sales are greater than 14000 with no promo running.\n"
          ],
          "name": "stdout"
        }
      ]
    },
    {
      "metadata": {
        "id": "6AuHhT6XdzeB",
        "colab_type": "text"
      },
      "cell_type": "markdown",
      "source": [
        "* The datapoint where sale is greater than 40000 seems to be an outlier as there was no promotion going on on that day.\n",
        "* There are quite a few records where sales were quite high. This could be because of the type of store or the store having no competetion nearby (explored later on). \n",
        "* The dataset is slightly skewed to the right, however, as the mean and median are comparable, we can say with some confidence that there are no extreme values that is effecting the distribution."
      ]
    },
    {
      "metadata": {
        "id": "g9q0Sof7lsE-",
        "colab_type": "code",
        "colab": {
          "base_uri": "https://localhost:8080/",
          "height": 405
        },
        "outputId": "b67e12fc-8744-4bf1-c6dd-f1a5a8db2729"
      },
      "cell_type": "code",
      "source": [
        "fig, ax = plt.subplots(1, 2, figsize=(25,5))\n",
        "sns.boxplot(stores['Customers'], ax = ax[0], width = 0.35)\n",
        "ax[0].set_title('Boxplot For Customers')\n",
        "ax[1].hist(stores['Customers'])\n",
        "ax[1].set_title(\"Customers histogram\")\n",
        "plt.show()"
      ],
      "execution_count": 25,
      "outputs": [
        {
          "output_type": "stream",
          "text": [
            "/usr/local/lib/python3.6/dist-packages/seaborn/categorical.py:454: FutureWarning: remove_na is deprecated and is a private function. Do not use.\n",
            "  box_data = remove_na(group_data)\n"
          ],
          "name": "stderr"
        },
        {
          "output_type": "display_data",
          "data": {
            "image/png": "[encoded data removed]",
            "text/plain": [
              "<matplotlib.figure.Figure at 0x7faba34a42e8>"
            ]
          },
          "metadata": {
            "tags": []
          }
        }
      ]
    },
    {
      "metadata": {
        "id": "P_Sx3ZUNpl7T",
        "colab_type": "code",
        "colab": {
          "base_uri": "https://localhost:8080/",
          "height": 74
        },
        "outputId": "e1ac945d-e46f-40e3-e8e1-10b3ea412922"
      },
      "cell_type": "code",
      "source": [
        "print('Mean : {0}\\nMedian: {1}'.format(np.mean(stores['Customers']), np.median(stores['Customers'])))"
      ],
      "execution_count": 26,
      "outputs": [
        {
          "output_type": "stream",
          "text": [
            "Mean : 762.777166253325\n",
            "Median: 676.0\n"
          ],
          "name": "stdout"
        }
      ]
    },
    {
      "metadata": {
        "id": "UVGmUR-5gCF7",
        "colab_type": "code",
        "colab": {
          "base_uri": "https://localhost:8080/",
          "height": 214
        },
        "outputId": "cb874fd8-825d-402e-ee33-cfb53d2aed8a"
      },
      "cell_type": "code",
      "source": [
        "stores[stores['Customers'] > 7000]"
      ],
      "execution_count": 27,
      "outputs": [
        {
          "output_type": "execute_result",
          "data": {
            "text/html": [
              "<div>\n",
              "<style scoped>\n",
              "    .dataframe tbody tr th:only-of-type {\n",
              "        vertical-align: middle;\n",
              "    }\n",
              "\n",
              "    .dataframe tbody tr th {\n",
              "        vertical-align: top;\n",
              "    }\n",
              "\n",
              "    .dataframe thead th {\n",
              "        text-align: right;\n",
              "    }\n",
              "</style>\n",
              "<table border=\"1\" class=\"dataframe\">\n",
              "  <thead>\n",
              "    <tr style=\"text-align: right;\">\n",
              "      <th></th>\n",
              "      <th>Store</th>\n",
              "      <th>DayOfWeek</th>\n",
              "      <th>Date</th>\n",
              "      <th>Sales</th>\n",
              "      <th>Customers</th>\n",
              "      <th>Open</th>\n",
              "      <th>Promo</th>\n",
              "      <th>StateHoliday</th>\n",
              "      <th>SchoolHoliday</th>\n",
              "      <th>StoreType</th>\n",
              "      <th>...</th>\n",
              "      <th>CompetitionOpenSinceMonth</th>\n",
              "      <th>CompetitionOpenSinceYear</th>\n",
              "      <th>Promo2</th>\n",
              "      <th>Promo2SinceWeek</th>\n",
              "      <th>Promo2SinceYear</th>\n",
              "      <th>PromoInterval</th>\n",
              "      <th>Date_month</th>\n",
              "      <th>Date_day</th>\n",
              "      <th>Date_year</th>\n",
              "      <th>SalePerCust</th>\n",
              "    </tr>\n",
              "  </thead>\n",
              "  <tbody>\n",
              "    <tr>\n",
              "      <th>993496</th>\n",
              "      <td>817</td>\n",
              "      <td>2</td>\n",
              "      <td>2013-01-22</td>\n",
              "      <td>27190</td>\n",
              "      <td>7388</td>\n",
              "      <td>1</td>\n",
              "      <td>1</td>\n",
              "      <td>0</td>\n",
              "      <td>0</td>\n",
              "      <td>a</td>\n",
              "      <td>...</td>\n",
              "      <td>3.0</td>\n",
              "      <td>2006.0</td>\n",
              "      <td>0</td>\n",
              "      <td>NaN</td>\n",
              "      <td>NaN</td>\n",
              "      <td>NaN</td>\n",
              "      <td>1</td>\n",
              "      <td>22</td>\n",
              "      <td>2013</td>\n",
              "      <td>3.680292</td>\n",
              "    </tr>\n",
              "  </tbody>\n",
              "</table>\n",
              "<p>1 rows × 22 columns</p>\n",
              "</div>"
            ],
            "text/plain": [
              "        Store  DayOfWeek       Date  Sales  Customers  Open  Promo  \\\n",
              "993496    817          2 2013-01-22  27190       7388     1      1   \n",
              "\n",
              "       StateHoliday  SchoolHoliday StoreType     ...       \\\n",
              "993496            0              0         a     ...        \n",
              "\n",
              "       CompetitionOpenSinceMonth  CompetitionOpenSinceYear  Promo2  \\\n",
              "993496                       3.0                    2006.0       0   \n",
              "\n",
              "        Promo2SinceWeek  Promo2SinceYear  PromoInterval  Date_month Date_day  \\\n",
              "993496              NaN              NaN            NaN           1       22   \n",
              "\n",
              "        Date_year  SalePerCust  \n",
              "993496       2013     3.680292  \n",
              "\n",
              "[1 rows x 22 columns]"
            ]
          },
          "metadata": {
            "tags": []
          },
          "execution_count": 27
        }
      ]
    },
    {
      "metadata": {
        "id": "0vcNBSa2gJSC",
        "colab_type": "code",
        "colab": {
          "base_uri": "https://localhost:8080/",
          "height": 74
        },
        "outputId": "004c6d83-03e9-4393-be08-88df6e3f7b9f"
      },
      "cell_type": "code",
      "source": [
        "print('There are {} datapoints where the number of customers is greater than 1500.'.format(stores[(stores['Customers'] > 1500)].shape[0]))\n",
        "print('There are {} datapoints where sales are greater than 1500 with no promo running.'.format(stores[(stores['Customers'] > 1500) & (stores['Promo'] == 0)].shape[0]))"
      ],
      "execution_count": 28,
      "outputs": [
        {
          "output_type": "stream",
          "text": [
            "There are 36877 datapoints where the number of customers is greater than 1500.\n",
            "There are 16808 datapoints where sales are greater than 1500 with no promo running.\n"
          ],
          "name": "stdout"
        }
      ]
    },
    {
      "metadata": {
        "id": "Owwo47u3hHae",
        "colab_type": "code",
        "colab": {
          "base_uri": "https://localhost:8080/",
          "height": 55
        },
        "outputId": "324160e0-0cbf-4c5f-c815-adda35885664"
      },
      "cell_type": "code",
      "source": [
        "stores['Sales'].corr(stores['Customers'])"
      ],
      "execution_count": 29,
      "outputs": [
        {
          "output_type": "execute_result",
          "data": {
            "text/plain": [
              "0.8235517202000227"
            ]
          },
          "metadata": {
            "tags": []
          },
          "execution_count": 29
        }
      ]
    },
    {
      "metadata": {
        "id": "0mxTF4achYxN",
        "colab_type": "text"
      },
      "cell_type": "markdown",
      "source": [
        "* The disrtibution for the number of customers is similar to that for sales. Infact, the two have a very strong correlation (0.82). This is understandable as the more customers the store attracts, the more sales it can make.\n",
        "* A store had very high number of customers, which could be due to the promotion it was having.\n",
        "* We observe a right skewness in both distributions because of the low number of outliers but the high representation of each outlier alone which pushes the distribution to the left as seen in both histograms.This typically occurs when the mean is higher than the median."
      ]
    },
    {
      "metadata": {
        "id": "SYNqeSmtihzw",
        "colab_type": "text"
      },
      "cell_type": "markdown",
      "source": [
        "### Exploring Sales & Customers By Time Patterns\n"
      ]
    },
    {
      "metadata": {
        "id": "3_RGQrSXi_DK",
        "colab_type": "code",
        "colab": {
          "base_uri": "https://localhost:8080/",
          "height": 379
        },
        "outputId": "13e4fb86-4e1d-4b8b-a650-488dd2bb75f6"
      },
      "cell_type": "code",
      "source": [
        "stores[['Sales']].groupby(stores['Date_day'], as_index = True).sum().plot(kind = 'bar', figsize = (20,5))\n",
        "plt.title('Sales For Each Day Of The Month', fontsize = 15, y = 1.02)\n",
        "plt.xlabel('Day Of The Month', fontsize = 12)\n",
        "plt.ylabel('Sales', fontsize = 12)\n",
        "plt.show()"
      ],
      "execution_count": 30,
      "outputs": [
        {
          "output_type": "display_data",
          "data": {
            "image/png": "[encoded data removed]",
            "text/plain": [
              "<matplotlib.figure.Figure at 0x7faba34a4278>"
            ]
          },
          "metadata": {
            "tags": []
          }
        }
      ]
    },
    {
      "metadata": {
        "id": "q_WjpYpVhS4H",
        "colab_type": "code",
        "colab": {
          "base_uri": "https://localhost:8080/",
          "height": 379
        },
        "outputId": "29782676-eef8-4b91-e74c-bdb7da531975"
      },
      "cell_type": "code",
      "source": [
        "stores[['Customers']].groupby(stores['Date_day'], as_index = True).sum().plot(kind = 'bar', figsize = (20,5))\n",
        "plt.title('Number Of Customers For Each Day Of The Month', fontsize = 15, y = 1.02)\n",
        "plt.xlabel('Day Of The Month', fontsize = 12)\n",
        "plt.ylabel('Number Of Customers', fontsize = 12)\n",
        "plt.show()"
      ],
      "execution_count": 31,
      "outputs": [
        {
          "output_type": "display_data",
          "data": {
            "image/png": "[encoded data removed]",
            "text/plain": [
              "<matplotlib.figure.Figure at 0x7faba09cdeb8>"
            ]
          },
          "metadata": {
            "tags": []
          }
        }
      ]
    },
    {
      "metadata": {
        "id": "56NZuTI7k_Xw",
        "colab_type": "code",
        "colab": {
          "base_uri": "https://localhost:8080/",
          "height": 379
        },
        "outputId": "6be981fa-c288-4351-870c-289bd58e8a5c"
      },
      "cell_type": "code",
      "source": [
        "stores[['Sales']].groupby(stores['Date_month'], as_index = True).sum().plot(kind = 'bar', figsize = (15,5))\n",
        "plt.title('Sales For Each Month Of The Year', fontsize = 15, y = 1.02)\n",
        "plt.xlabel('Month', fontsize = 12)\n",
        "plt.ylabel('Sales', fontsize = 12)\n",
        "plt.show()"
      ],
      "execution_count": 32,
      "outputs": [
        {
          "output_type": "display_data",
          "data": {
            "image/png": "[encoded data removed]",
            "text/plain": [
              "<matplotlib.figure.Figure at 0x7faba089e5c0>"
            ]
          },
          "metadata": {
            "tags": []
          }
        }
      ]
    },
    {
      "metadata": {
        "id": "3mFn8UNRlNYr",
        "colab_type": "code",
        "colab": {
          "base_uri": "https://localhost:8080/",
          "height": 379
        },
        "outputId": "7a4851fe-78db-4e4c-f71e-d165a57a1f16"
      },
      "cell_type": "code",
      "source": [
        "stores[['Customers']].groupby(stores['Date_month'], as_index = True).sum().plot(kind = 'bar', figsize = (15,5))\n",
        "plt.title('Number Of Customers For Each Month Of The Year', fontsize = 15, y = 1.02)\n",
        "plt.xlabel('Month', fontsize = 12)\n",
        "plt.ylabel('Number Of Customers', fontsize = 12)\n",
        "plt.show()"
      ],
      "execution_count": 33,
      "outputs": [
        {
          "output_type": "display_data",
          "data": {
            "image/png": "[encoded data removed]",
            "text/plain": [
              "<matplotlib.figure.Figure at 0x7faba09e4438>"
            ]
          },
          "metadata": {
            "tags": []
          }
        }
      ]
    },
    {
      "metadata": {
        "id": "PPOUNZldlibE",
        "colab_type": "text"
      },
      "cell_type": "markdown",
      "source": [
        "* The stores have somewhat equal amount of sales and customers from January to July. There is a considerable decrease in these figures for the months August to December.\n",
        "* Amount of sales is slightly higher at the start of the month and the middle of the month."
      ]
    },
    {
      "metadata": {
        "id": "HhmE1R_-myuE",
        "colab_type": "text"
      },
      "cell_type": "markdown",
      "source": [
        "### Exploring Other Store Features"
      ]
    },
    {
      "metadata": {
        "id": "rcsL8zmXs6cA",
        "colab_type": "text"
      },
      "cell_type": "markdown",
      "source": [
        "#### Handling Missing Data"
      ]
    },
    {
      "metadata": {
        "id": "oR0K0evqm8ci",
        "colab_type": "text"
      },
      "cell_type": "markdown",
      "source": [
        "Before we can explore rest of the dataset, we need to deal with the missing values. Columns with missing values:\n",
        "\n",
        "CompetitionDistance, CompetitionOpenSinceMonth, CompetitionOpenSinceYear , Promo2SinceWeek, Promo2SinceYear,             PromoInterval"
      ]
    },
    {
      "metadata": {
        "id": "LeeS-YidtCMD",
        "colab_type": "text"
      },
      "cell_type": "markdown",
      "source": [
        "##### CompetitionDistance"
      ]
    },
    {
      "metadata": {
        "id": "NxdrKcj4lfsK",
        "colab_type": "code",
        "colab": {
          "base_uri": "https://localhost:8080/",
          "height": 355
        },
        "outputId": "df089126-7d38-484e-eae5-44376cb635fd"
      },
      "cell_type": "code",
      "source": [
        "stores['CompetitionDistance'].hist()\n",
        "plt.axvline(stores['CompetitionDistance'].mean(), color='y', linestyle='dashed', linewidth=1.5, label = 'mean')\n",
        "plt.axvline(stores['CompetitionDistance'].median(), color='r', linestyle='dashed', linewidth=1.5, label = 'median')\n",
        "plt.legend()\n",
        "plt.title('Distribution For CompetitionDistance')\n",
        "plt.show()\n",
        "print('Mean : {0}\\nMedian: {1}\\nStd Dev: {2}'.format(stores['CompetitionDistance'].mean(), stores['CompetitionDistance'].median(), stores['CompetitionDistance'].std()))"
      ],
      "execution_count": 34,
      "outputs": [
        {
          "output_type": "display_data",
          "data": {
            "image/png": "[encoded data removed]",
            "text/plain": [
              "<matplotlib.figure.Figure at 0x7faba3408390>"
            ]
          },
          "metadata": {
            "tags": []
          }
        },
        {
          "output_type": "stream",
          "text": [
            "Mean : 5458.156627307185\n",
            "Median: 2320.0\n",
            "Std Dev: 7809.573180596647\n"
          ],
          "name": "stdout"
        }
      ]
    },
    {
      "metadata": {
        "id": "Q8IwFI53sAHP",
        "colab_type": "text"
      },
      "cell_type": "markdown",
      "source": [
        "\n",
        "The distribution for this variable is highly skewed to the right with a significant difference between the mean and the median. This being caused by the amount of disperness in the data with a standard deviation of 7659, higher than the mean and the median.\n",
        "\n",
        "Therefore,  it is better to replace the missing values in this feature with the median than the mean since the mean is biased by those outliers."
      ]
    },
    {
      "metadata": {
        "id": "h1PbBb6KpeK3",
        "colab_type": "code",
        "colab": {}
      },
      "cell_type": "code",
      "source": [
        "stores['CompetitionDistance'].fillna(stores['CompetitionDistance'].median(), inplace = True)"
      ],
      "execution_count": 0,
      "outputs": []
    },
    {
      "metadata": {
        "id": "WFIMblBitOiy",
        "colab_type": "text"
      },
      "cell_type": "markdown",
      "source": [
        "##### CompetitionOpenSinceMonth, CompetitionOpenSinceYear"
      ]
    },
    {
      "metadata": {
        "id": "GbMtLdfstbd1",
        "colab_type": "text"
      },
      "cell_type": "markdown",
      "source": [
        "Since we have no information whatsoever on these missing values and no accurate way of filling these values, we will be replacing these with 0."
      ]
    },
    {
      "metadata": {
        "id": "BAb_8iFurl3h",
        "colab_type": "code",
        "colab": {}
      },
      "cell_type": "code",
      "source": [
        "stores['CompetitionOpenSinceMonth'].fillna(0, inplace = True)\n",
        "stores['CompetitionOpenSinceYear'].fillna(0, inplace = True)"
      ],
      "execution_count": 0,
      "outputs": []
    },
    {
      "metadata": {
        "id": "8OihuiEX7I0d",
        "colab_type": "text"
      },
      "cell_type": "markdown",
      "source": [
        "##### Promo2SinceWeek, Promo2SinceYear, PromoInterval"
      ]
    },
    {
      "metadata": {
        "id": "-zjqkRuKs1AW",
        "colab_type": "code",
        "colab": {
          "base_uri": "https://localhost:8080/",
          "height": 110
        },
        "outputId": "e9d7ed6c-40d7-493a-bc99-68d744be724a"
      },
      "cell_type": "code",
      "source": [
        "stores[['Promo2SinceWeek', 'Promo2SinceYear', 'PromoInterval']].isnull().sum()"
      ],
      "execution_count": 37,
      "outputs": [
        {
          "output_type": "execute_result",
          "data": {
            "text/plain": [
              "Promo2SinceWeek    423292\n",
              "Promo2SinceYear    423292\n",
              "PromoInterval      423292\n",
              "dtype: int64"
            ]
          },
          "metadata": {
            "tags": []
          },
          "execution_count": 37
        }
      ]
    },
    {
      "metadata": {
        "id": "-XXTc0Ph7j5z",
        "colab_type": "code",
        "colab": {
          "base_uri": "https://localhost:8080/",
          "height": 55
        },
        "outputId": "0f979ab6-9e40-438d-9ebf-c41c776aabaa"
      },
      "cell_type": "code",
      "source": [
        "len(stores[['Promo2SinceWeek', 'Promo2SinceYear', 'PromoInterval']][stores['Promo2'] == 0])"
      ],
      "execution_count": 38,
      "outputs": [
        {
          "output_type": "execute_result",
          "data": {
            "text/plain": [
              "423292"
            ]
          },
          "metadata": {
            "tags": []
          },
          "execution_count": 38
        }
      ]
    },
    {
      "metadata": {
        "id": "qG9R_IO18Mss",
        "colab_type": "text"
      },
      "cell_type": "markdown",
      "source": [
        "All the missing values in these fields are occurring where Promo2 is 0. This means there are no continuous promotional activities for those stores.\n",
        "\n",
        "Having no promotion means those fields have to be 0 as well since they are linked to Promo2."
      ]
    },
    {
      "metadata": {
        "id": "d-p9znkX8CYB",
        "colab_type": "code",
        "colab": {}
      },
      "cell_type": "code",
      "source": [
        "stores['Promo2SinceWeek'].fillna(0, inplace = True)\n",
        "stores['Promo2SinceYear'].fillna(0, inplace = True)\n",
        "stores['PromoInterval'].fillna(0, inplace = True)"
      ],
      "execution_count": 0,
      "outputs": []
    },
    {
      "metadata": {
        "id": "4smkxON78lOH",
        "colab_type": "code",
        "colab": {
          "base_uri": "https://localhost:8080/",
          "height": 455
        },
        "outputId": "de5dfd58-50e1-478f-d9f1-769839c81561"
      },
      "cell_type": "code",
      "source": [
        "stores.isnull().sum()"
      ],
      "execution_count": 40,
      "outputs": [
        {
          "output_type": "execute_result",
          "data": {
            "text/plain": [
              "Store                        0\n",
              "DayOfWeek                    0\n",
              "Date                         0\n",
              "Sales                        0\n",
              "Customers                    0\n",
              "Open                         0\n",
              "Promo                        0\n",
              "StateHoliday                 0\n",
              "SchoolHoliday                0\n",
              "StoreType                    0\n",
              "Assortment                   0\n",
              "CompetitionDistance          0\n",
              "CompetitionOpenSinceMonth    0\n",
              "CompetitionOpenSinceYear     0\n",
              "Promo2                       0\n",
              "Promo2SinceWeek              0\n",
              "Promo2SinceYear              0\n",
              "PromoInterval                0\n",
              "Date_month                   0\n",
              "Date_day                     0\n",
              "Date_year                    0\n",
              "SalePerCust                  0\n",
              "dtype: int64"
            ]
          },
          "metadata": {
            "tags": []
          },
          "execution_count": 40
        }
      ]
    },
    {
      "metadata": {
        "id": "XKjQGcbO9MLT",
        "colab_type": "text"
      },
      "cell_type": "markdown",
      "source": [
        "#### Exploring Store Types"
      ]
    },
    {
      "metadata": {
        "id": "uAW7bO9J87oz",
        "colab_type": "code",
        "colab": {
          "base_uri": "https://localhost:8080/",
          "height": 389
        },
        "outputId": "00883d52-0e6d-4452-de60-7967992da2eb"
      },
      "cell_type": "code",
      "source": [
        "fig, ax = plt.subplots(2, 3, figsize=(15,5))\n",
        "plt.subplots_adjust(hspace = 0.28)\n",
        "\n",
        "stores[['Store']].groupby(stores['StoreType'], as_index = True).count().plot(kind = 'bar', ax = ax[0,0], legend = False)\n",
        "ax[0,0].set_title('Number of Stores By Store Types', fontsize  = 12, y = 1.02)\n",
        "\n",
        "stores[['Sales']].groupby(stores['StoreType'], as_index = True).sum().plot(kind = 'bar', ax = ax[0,1], legend = False)\n",
        "ax[0,1].set_title('Total Sales By Store Types', fontsize  = 12, y = 1.02)\n",
        "\n",
        "stores[['Customers']].groupby(stores['StoreType'], as_index = True).sum().plot(kind = 'bar', ax = ax[0,2], legend = False)\n",
        "ax[0,2].set_title('Total Customers By Store Types', fontsize  = 12, y = 1.02)\n",
        "\n",
        "stores[['Sales']].groupby(stores['StoreType'], as_index = True).mean().plot(kind = 'bar', ax = ax[1,0], legend = False)\n",
        "ax[1,0].set_title('Avg Sales By Store Types', fontsize  = 12, y = 1.02)\n",
        "\n",
        "stores[['Customers']].groupby(stores['StoreType'], as_index = True).mean().plot(kind = 'bar', ax = ax[1,1], legend = False)\n",
        "ax[1,1].set_title('Avg Customers By Store Types', fontsize  = 12, y = 1.02)\n",
        "\n",
        "stores[['SalePerCust']].groupby(stores['StoreType'], as_index = True).mean().plot(kind = 'bar', ax = ax[1,2], legend = False)\n",
        "ax[1,2].set_title('Avg Spending Per Custoper By Store Types', fontsize  = 12, y = 1.02)\n",
        "\n",
        "plt.tight_layout()\n",
        "plt.show()"
      ],
      "execution_count": 41,
      "outputs": [
        {
          "output_type": "display_data",
          "data": {
            "image/png": "[encoded data removed]",
            "text/plain": [
              "<matplotlib.figure.Figure at 0x7faba07d0ac8>"
            ]
          },
          "metadata": {
            "tags": []
          }
        }
      ]
    },
    {
      "metadata": {
        "id": "ircW6jBmL52d",
        "colab_type": "text"
      },
      "cell_type": "markdown",
      "source": [
        "* Store type A has the highest number of stores, sales and customers but it is not the best performing store.\n",
        "* Store type B has the highest average sales and highest average number of customers. \n",
        "* Store type D has the highest spending per customer.\n",
        "\n",
        "Studying other variables such as Assortments, Competition and Promotions can help us better understand these results."
      ]
    },
    {
      "metadata": {
        "id": "E-r4ul4dOPVd",
        "colab_type": "text"
      },
      "cell_type": "markdown",
      "source": [
        "#### Exploring Assortments"
      ]
    },
    {
      "metadata": {
        "id": "5g7NW33QPqc7",
        "colab_type": "text"
      },
      "cell_type": "markdown",
      "source": [
        "Assortments have three types and each store has a defined type and assortment type:\n",
        "\n",
        "* a means basic things\n",
        "* b means extra things\n",
        "* c means extended things so the highest variety of products."
      ]
    },
    {
      "metadata": {
        "id": "M7vMqcYSMTGx",
        "colab_type": "code",
        "colab": {
          "base_uri": "https://localhost:8080/",
          "height": 353
        },
        "outputId": "7dfd2984-9531-45ac-ee95-c4cbf70182e0"
      },
      "cell_type": "code",
      "source": [
        "sns.countplot(x = 'StoreType', hue = 'Assortment', data = stores, order = ['a', 'b', 'c', 'd']).set_title(\"Number of Different Assortments per Store Type\", fontsize = 15)\n",
        "plt.show()"
      ],
      "execution_count": 42,
      "outputs": [
        {
          "output_type": "stream",
          "text": [
            "/usr/local/lib/python3.6/dist-packages/seaborn/categorical.py:1468: FutureWarning: remove_na is deprecated and is a private function. Do not use.\n",
            "  stat_data = remove_na(group_data[hue_mask])\n"
          ],
          "name": "stderr"
        },
        {
          "output_type": "display_data",
          "data": {
            "image/png": "[encoded data removed]",
            "text/plain": [
              "<matplotlib.figure.Figure at 0x7faba0a8e0b8>"
            ]
          },
          "metadata": {
            "tags": []
          }
        }
      ]
    },
    {
      "metadata": {
        "id": "Pqm7eESJP1ii",
        "colab_type": "text"
      },
      "cell_type": "markdown",
      "source": [
        "* Most of the stores have assortment type a or c.\n",
        "* Assorment type b is scarce.\n",
        "* Store type D which has the highest sale per customer has very high amount of assortment d. This could probably be the reason behind high sale per customer as having variety in stores can increase the customers' spending."
      ]
    },
    {
      "metadata": {
        "id": "eHdeZ7QjQs_Y",
        "colab_type": "text"
      },
      "cell_type": "markdown",
      "source": [
        "#### Exploring Promotions"
      ]
    },
    {
      "metadata": {
        "id": "ws1kblOWd9Xs",
        "colab_type": "code",
        "colab": {
          "base_uri": "https://localhost:8080/",
          "height": 930
        },
        "outputId": "90b6927e-be64-4d40-a1c9-79d6a45e6ac7"
      },
      "cell_type": "code",
      "source": [
        "sns.factorplot(data = stores, x ='Date_month', y = 'Sales', col = 'Promo', hue = 'Promo2', row = 'Date_year', sharex = False)\n",
        "plt.show()"
      ],
      "execution_count": 43,
      "outputs": [
        {
          "output_type": "stream",
          "text": [
            "/usr/local/lib/python3.6/dist-packages/seaborn/categorical.py:1468: FutureWarning: remove_na is deprecated and is a private function. Do not use.\n",
            "  stat_data = remove_na(group_data[hue_mask])\n"
          ],
          "name": "stderr"
        },
        {
          "output_type": "display_data",
          "data": {
            "image/png": "[encoded data removed]",
            "text/plain": [
              "<matplotlib.figure.Figure at 0x7faba07de4a8>"
            ]
          },
          "metadata": {
            "tags": []
          }
        }
      ]
    },
    {
      "metadata": {
        "id": "vUk55wNz8txN",
        "colab_type": "code",
        "colab": {
          "base_uri": "https://localhost:8080/",
          "height": 930
        },
        "outputId": "d820ee21-d266-4371-a10a-b5e592d24a39"
      },
      "cell_type": "code",
      "source": [
        "sns.factorplot(data = stores, x ='Date_month', y = 'SalePerCust', col = 'Promo', hue = 'Promo2', row = 'Date_year', sharex = False)\n",
        "plt.show()"
      ],
      "execution_count": 44,
      "outputs": [
        {
          "output_type": "stream",
          "text": [
            "/usr/local/lib/python3.6/dist-packages/seaborn/categorical.py:1468: FutureWarning: remove_na is deprecated and is a private function. Do not use.\n",
            "  stat_data = remove_na(group_data[hue_mask])\n"
          ],
          "name": "stderr"
        },
        {
          "output_type": "display_data",
          "data": {
            "image/png": "[encoded data removed]",
            "text/plain": [
              "<matplotlib.figure.Figure at 0x7faba09eecc0>"
            ]
          },
          "metadata": {
            "tags": []
          }
        }
      ]
    },
    {
      "metadata": {
        "id": "G6kCI11ofF25",
        "colab_type": "text"
      },
      "cell_type": "markdown",
      "source": [
        "* Sale increases dramatically upon the introduction of promotions. We can conclude a store having promotions increases its sale quite significantly.\n",
        "* Surprisingly, when there is no consecutive promotion stores tend to sell more than with consecutive promotion. "
      ]
    },
    {
      "metadata": {
        "id": "BKnrHQUDpxwU",
        "colab_type": "text"
      },
      "cell_type": "markdown",
      "source": [
        "#### Exploring Competition Distance"
      ]
    },
    {
      "metadata": {
        "id": "SzlkABT3uJlW",
        "colab_type": "text"
      },
      "cell_type": "markdown",
      "source": [
        "CompetitionDistance is a continuous variable and therefore, in order to analyze sales and customers by this variable, we need to first convert it into a categorical value."
      ]
    },
    {
      "metadata": {
        "id": "iSvN_95ZexJ0",
        "colab_type": "code",
        "colab": {
          "base_uri": "https://localhost:8080/",
          "height": 308
        },
        "outputId": "5015b13f-ae72-4ceb-ebc9-8b1b949dc174"
      },
      "cell_type": "code",
      "source": [
        "stores['CompetitionDistance_cat'] = pd.cut(stores['CompetitionDistance'], 8)\n",
        "stores.head(3)"
      ],
      "execution_count": 45,
      "outputs": [
        {
          "output_type": "execute_result",
          "data": {
            "text/html": [
              "<div>\n",
              "<style scoped>\n",
              "    .dataframe tbody tr th:only-of-type {\n",
              "        vertical-align: middle;\n",
              "    }\n",
              "\n",
              "    .dataframe tbody tr th {\n",
              "        vertical-align: top;\n",
              "    }\n",
              "\n",
              "    .dataframe thead th {\n",
              "        text-align: right;\n",
              "    }\n",
              "</style>\n",
              "<table border=\"1\" class=\"dataframe\">\n",
              "  <thead>\n",
              "    <tr style=\"text-align: right;\">\n",
              "      <th></th>\n",
              "      <th>Store</th>\n",
              "      <th>DayOfWeek</th>\n",
              "      <th>Date</th>\n",
              "      <th>Sales</th>\n",
              "      <th>Customers</th>\n",
              "      <th>Open</th>\n",
              "      <th>Promo</th>\n",
              "      <th>StateHoliday</th>\n",
              "      <th>SchoolHoliday</th>\n",
              "      <th>StoreType</th>\n",
              "      <th>...</th>\n",
              "      <th>CompetitionOpenSinceYear</th>\n",
              "      <th>Promo2</th>\n",
              "      <th>Promo2SinceWeek</th>\n",
              "      <th>Promo2SinceYear</th>\n",
              "      <th>PromoInterval</th>\n",
              "      <th>Date_month</th>\n",
              "      <th>Date_day</th>\n",
              "      <th>Date_year</th>\n",
              "      <th>SalePerCust</th>\n",
              "      <th>CompetitionDistance_cat</th>\n",
              "    </tr>\n",
              "  </thead>\n",
              "  <tbody>\n",
              "    <tr>\n",
              "      <th>0</th>\n",
              "      <td>1</td>\n",
              "      <td>5</td>\n",
              "      <td>2015-07-31</td>\n",
              "      <td>5263</td>\n",
              "      <td>555</td>\n",
              "      <td>1</td>\n",
              "      <td>1</td>\n",
              "      <td>0</td>\n",
              "      <td>1</td>\n",
              "      <td>c</td>\n",
              "      <td>...</td>\n",
              "      <td>2008.0</td>\n",
              "      <td>0</td>\n",
              "      <td>0.0</td>\n",
              "      <td>0.0</td>\n",
              "      <td>0</td>\n",
              "      <td>7</td>\n",
              "      <td>31</td>\n",
              "      <td>2015</td>\n",
              "      <td>9.482883</td>\n",
              "      <td>(-55.84, 9500.0]</td>\n",
              "    </tr>\n",
              "    <tr>\n",
              "      <th>1</th>\n",
              "      <td>2</td>\n",
              "      <td>5</td>\n",
              "      <td>2015-07-31</td>\n",
              "      <td>6064</td>\n",
              "      <td>625</td>\n",
              "      <td>1</td>\n",
              "      <td>1</td>\n",
              "      <td>0</td>\n",
              "      <td>1</td>\n",
              "      <td>a</td>\n",
              "      <td>...</td>\n",
              "      <td>2007.0</td>\n",
              "      <td>1</td>\n",
              "      <td>13.0</td>\n",
              "      <td>2010.0</td>\n",
              "      <td>Jan,Apr,Jul,Oct</td>\n",
              "      <td>7</td>\n",
              "      <td>31</td>\n",
              "      <td>2015</td>\n",
              "      <td>9.702400</td>\n",
              "      <td>(-55.84, 9500.0]</td>\n",
              "    </tr>\n",
              "    <tr>\n",
              "      <th>2</th>\n",
              "      <td>3</td>\n",
              "      <td>5</td>\n",
              "      <td>2015-07-31</td>\n",
              "      <td>8314</td>\n",
              "      <td>821</td>\n",
              "      <td>1</td>\n",
              "      <td>1</td>\n",
              "      <td>0</td>\n",
              "      <td>1</td>\n",
              "      <td>a</td>\n",
              "      <td>...</td>\n",
              "      <td>2006.0</td>\n",
              "      <td>1</td>\n",
              "      <td>14.0</td>\n",
              "      <td>2011.0</td>\n",
              "      <td>Jan,Apr,Jul,Oct</td>\n",
              "      <td>7</td>\n",
              "      <td>31</td>\n",
              "      <td>2015</td>\n",
              "      <td>10.126675</td>\n",
              "      <td>(9500.0, 18980.0]</td>\n",
              "    </tr>\n",
              "  </tbody>\n",
              "</table>\n",
              "<p>3 rows × 23 columns</p>\n",
              "</div>"
            ],
            "text/plain": [
              "   Store  DayOfWeek       Date  Sales  Customers  Open  Promo StateHoliday  \\\n",
              "0      1          5 2015-07-31   5263        555     1      1            0   \n",
              "1      2          5 2015-07-31   6064        625     1      1            0   \n",
              "2      3          5 2015-07-31   8314        821     1      1            0   \n",
              "\n",
              "   SchoolHoliday StoreType           ...            CompetitionOpenSinceYear  \\\n",
              "0              1         c           ...                              2008.0   \n",
              "1              1         a           ...                              2007.0   \n",
              "2              1         a           ...                              2006.0   \n",
              "\n",
              "   Promo2  Promo2SinceWeek  Promo2SinceYear    PromoInterval  Date_month  \\\n",
              "0       0              0.0              0.0                0           7   \n",
              "1       1             13.0           2010.0  Jan,Apr,Jul,Oct           7   \n",
              "2       1             14.0           2011.0  Jan,Apr,Jul,Oct           7   \n",
              "\n",
              "   Date_day Date_year  SalePerCust  CompetitionDistance_cat  \n",
              "0        31      2015     9.482883         (-55.84, 9500.0]  \n",
              "1        31      2015     9.702400         (-55.84, 9500.0]  \n",
              "2        31      2015    10.126675        (9500.0, 18980.0]  \n",
              "\n",
              "[3 rows x 23 columns]"
            ]
          },
          "metadata": {
            "tags": []
          },
          "execution_count": 45
        }
      ]
    },
    {
      "metadata": {
        "id": "wjVm7HUXuotu",
        "colab_type": "code",
        "colab": {
          "base_uri": "https://localhost:8080/",
          "height": 338
        },
        "outputId": "f8107177-94c2-45b6-897f-829db2192142"
      },
      "cell_type": "code",
      "source": [
        "stores[['Sales']].groupby(stores['CompetitionDistance_cat'], as_index = True).mean()\n"
      ],
      "execution_count": 46,
      "outputs": [
        {
          "output_type": "execute_result",
          "data": {
            "text/html": [
              "<div>\n",
              "<style scoped>\n",
              "    .dataframe tbody tr th:only-of-type {\n",
              "        vertical-align: middle;\n",
              "    }\n",
              "\n",
              "    .dataframe tbody tr th {\n",
              "        vertical-align: top;\n",
              "    }\n",
              "\n",
              "    .dataframe thead th {\n",
              "        text-align: right;\n",
              "    }\n",
              "</style>\n",
              "<table border=\"1\" class=\"dataframe\">\n",
              "  <thead>\n",
              "    <tr style=\"text-align: right;\">\n",
              "      <th></th>\n",
              "      <th>Sales</th>\n",
              "    </tr>\n",
              "    <tr>\n",
              "      <th>CompetitionDistance_cat</th>\n",
              "      <th></th>\n",
              "    </tr>\n",
              "  </thead>\n",
              "  <tbody>\n",
              "    <tr>\n",
              "      <th>(-55.84, 9500.0]</th>\n",
              "      <td>6990.387967</td>\n",
              "    </tr>\n",
              "    <tr>\n",
              "      <th>(9500.0, 18980.0]</th>\n",
              "      <td>6716.710155</td>\n",
              "    </tr>\n",
              "    <tr>\n",
              "      <th>(18980.0, 28460.0]</th>\n",
              "      <td>7290.775576</td>\n",
              "    </tr>\n",
              "    <tr>\n",
              "      <th>(28460.0, 37940.0]</th>\n",
              "      <td>6245.868663</td>\n",
              "    </tr>\n",
              "    <tr>\n",
              "      <th>(37940.0, 47420.0]</th>\n",
              "      <td>6670.818727</td>\n",
              "    </tr>\n",
              "    <tr>\n",
              "      <th>(47420.0, 56900.0]</th>\n",
              "      <td>4845.229592</td>\n",
              "    </tr>\n",
              "    <tr>\n",
              "      <th>(56900.0, 66380.0]</th>\n",
              "      <td>6462.014689</td>\n",
              "    </tr>\n",
              "    <tr>\n",
              "      <th>(66380.0, 75860.0]</th>\n",
              "      <td>7775.446449</td>\n",
              "    </tr>\n",
              "  </tbody>\n",
              "</table>\n",
              "</div>"
            ],
            "text/plain": [
              "                               Sales\n",
              "CompetitionDistance_cat             \n",
              "(-55.84, 9500.0]         6990.387967\n",
              "(9500.0, 18980.0]        6716.710155\n",
              "(18980.0, 28460.0]       7290.775576\n",
              "(28460.0, 37940.0]       6245.868663\n",
              "(37940.0, 47420.0]       6670.818727\n",
              "(47420.0, 56900.0]       4845.229592\n",
              "(56900.0, 66380.0]       6462.014689\n",
              "(66380.0, 75860.0]       7775.446449"
            ]
          },
          "metadata": {
            "tags": []
          },
          "execution_count": 46
        }
      ]
    },
    {
      "metadata": {
        "id": "Whu_79MKvRXV",
        "colab_type": "code",
        "colab": {
          "base_uri": "https://localhost:8080/",
          "height": 338
        },
        "outputId": "1b381a1f-b8e5-4ea5-e743-72389283ae79"
      },
      "cell_type": "code",
      "source": [
        "stores[['Customers']].groupby(stores['CompetitionDistance_cat'], as_index = True).mean()"
      ],
      "execution_count": 47,
      "outputs": [
        {
          "output_type": "execute_result",
          "data": {
            "text/html": [
              "<div>\n",
              "<style scoped>\n",
              "    .dataframe tbody tr th:only-of-type {\n",
              "        vertical-align: middle;\n",
              "    }\n",
              "\n",
              "    .dataframe tbody tr th {\n",
              "        vertical-align: top;\n",
              "    }\n",
              "\n",
              "    .dataframe thead th {\n",
              "        text-align: right;\n",
              "    }\n",
              "</style>\n",
              "<table border=\"1\" class=\"dataframe\">\n",
              "  <thead>\n",
              "    <tr style=\"text-align: right;\">\n",
              "      <th></th>\n",
              "      <th>Customers</th>\n",
              "    </tr>\n",
              "    <tr>\n",
              "      <th>CompetitionDistance_cat</th>\n",
              "      <th></th>\n",
              "    </tr>\n",
              "  </thead>\n",
              "  <tbody>\n",
              "    <tr>\n",
              "      <th>(-55.84, 9500.0]</th>\n",
              "      <td>786.489398</td>\n",
              "    </tr>\n",
              "    <tr>\n",
              "      <th>(9500.0, 18980.0]</th>\n",
              "      <td>628.230410</td>\n",
              "    </tr>\n",
              "    <tr>\n",
              "      <th>(18980.0, 28460.0]</th>\n",
              "      <td>733.418448</td>\n",
              "    </tr>\n",
              "    <tr>\n",
              "      <th>(28460.0, 37940.0]</th>\n",
              "      <td>659.910077</td>\n",
              "    </tr>\n",
              "    <tr>\n",
              "      <th>(37940.0, 47420.0]</th>\n",
              "      <td>702.981308</td>\n",
              "    </tr>\n",
              "    <tr>\n",
              "      <th>(47420.0, 56900.0]</th>\n",
              "      <td>474.381378</td>\n",
              "    </tr>\n",
              "    <tr>\n",
              "      <th>(56900.0, 66380.0]</th>\n",
              "      <td>793.780791</td>\n",
              "    </tr>\n",
              "    <tr>\n",
              "      <th>(66380.0, 75860.0]</th>\n",
              "      <td>914.574972</td>\n",
              "    </tr>\n",
              "  </tbody>\n",
              "</table>\n",
              "</div>"
            ],
            "text/plain": [
              "                          Customers\n",
              "CompetitionDistance_cat            \n",
              "(-55.84, 9500.0]         786.489398\n",
              "(9500.0, 18980.0]        628.230410\n",
              "(18980.0, 28460.0]       733.418448\n",
              "(28460.0, 37940.0]       659.910077\n",
              "(37940.0, 47420.0]       702.981308\n",
              "(47420.0, 56900.0]       474.381378\n",
              "(56900.0, 66380.0]       793.780791\n",
              "(66380.0, 75860.0]       914.574972"
            ]
          },
          "metadata": {
            "tags": []
          },
          "execution_count": 47
        }
      ]
    },
    {
      "metadata": {
        "id": "kDcbAnw7vzuR",
        "colab_type": "text"
      },
      "cell_type": "markdown",
      "source": [
        "* Stores that have less nearby competition have higher sales and customers.\n",
        "* This doesn't mean automatically that the further the competion is, the better, but it does shed light on the fact that when there are no competition nearby, stores tend to sell more and have more customers because there are almost a monopoly in this region. "
      ]
    },
    {
      "metadata": {
        "id": "foybiktEMgmE",
        "colab_type": "text"
      },
      "cell_type": "markdown",
      "source": [
        "# Machine Learning"
      ]
    },
    {
      "metadata": {
        "id": "dkh6ITkLO368",
        "colab_type": "text"
      },
      "cell_type": "markdown",
      "source": [
        "## Data Preprocessing"
      ]
    },
    {
      "metadata": {
        "id": "f_XIaqwjvtGT",
        "colab_type": "code",
        "colab": {}
      },
      "cell_type": "code",
      "source": [
        "# removing unnecessary columns\n",
        "stores.drop(['Date', 'CompetitionDistance_cat', 'Open'], axis = 1, inplace = True)"
      ],
      "execution_count": 0,
      "outputs": []
    },
    {
      "metadata": {
        "id": "ME8gpUCwPdYQ",
        "colab_type": "code",
        "colab": {}
      },
      "cell_type": "code",
      "source": [
        "# converting objects to categories\n",
        "cols = ['StateHoliday', 'StoreType', 'Assortment', 'PromoInterval']\n",
        "for c in cols:\n",
        "  stores[c] = stores[c].astype('category')"
      ],
      "execution_count": 0,
      "outputs": []
    },
    {
      "metadata": {
        "id": "Q6__4Jb_NU7T",
        "colab_type": "code",
        "colab": {}
      },
      "cell_type": "code",
      "source": [
        "# it's not very important to distinguish between the kinds of state holidays, so we can covert this feature to a binary feature\n",
        "stores['StateHoliday'] = stores['StateHoliday'].map({'0': 0, 'a' : 1, 'b' : 1, 'c' : 1})"
      ],
      "execution_count": 0,
      "outputs": []
    },
    {
      "metadata": {
        "id": "vdG5Bue_TJno",
        "colab_type": "code",
        "colab": {}
      },
      "cell_type": "code",
      "source": [
        "# Since the variables CompetitionOpenSinceYear and CompeitionOpenSinceMonth have the same underlying meaning, \n",
        "# merging them into one variable, CompetitionOpenSince, makes it easier for the algorithm to understand the pattern and create less branches and thus less complex trees.\n",
        "stores['CompetitionOpenSince'] = np.where((stores['CompetitionOpenSinceMonth']==0) & (stores['CompetitionOpenSinceYear']==0) , 0,(abs(stores['Date_month'] - stores['CompetitionOpenSinceMonth'])) + (12 * (abs(stores['Date_year'] - stores['CompetitionOpenSinceYear']))))\n",
        "\n",
        "# removing CompetitionOpenSinceYear and CompeitionOpenSinceMonth\n",
        "stores.drop(['CompetitionOpenSinceYear', 'CompetitionOpenSinceMonth'], axis = 1, inplace = True)"
      ],
      "execution_count": 0,
      "outputs": []
    },
    {
      "metadata": {
        "id": "3FxvnTVJYuYw",
        "colab_type": "code",
        "colab": {}
      },
      "cell_type": "code",
      "source": [
        "# creating dummy variables for categorical values\n",
        "stores = pd.get_dummies(stores, columns = ['StoreType', 'Assortment', 'PromoInterval'], prefix = ['StoreType', 'Assortment', 'PromoInterval'])"
      ],
      "execution_count": 0,
      "outputs": []
    },
    {
      "metadata": {
        "id": "i3L5lueQrc_1",
        "colab_type": "code",
        "colab": {
          "base_uri": "https://localhost:8080/",
          "height": 181
        },
        "outputId": "9effa8ed-3360-4d26-aa54-c6ce06cd0428"
      },
      "cell_type": "code",
      "source": [
        "stores['Sales'].describe()"
      ],
      "execution_count": 53,
      "outputs": [
        {
          "output_type": "execute_result",
          "data": {
            "text/plain": [
              "count    844338.000000\n",
              "mean       6955.959134\n",
              "std        3103.815515\n",
              "min          46.000000\n",
              "25%        4859.000000\n",
              "50%        6369.000000\n",
              "75%        8360.000000\n",
              "max       41551.000000\n",
              "Name: Sales, dtype: float64"
            ]
          },
          "metadata": {
            "tags": []
          },
          "execution_count": 53
        }
      ]
    },
    {
      "metadata": {
        "id": "uxS5-gwveWQT",
        "colab_type": "code",
        "colab": {}
      },
      "cell_type": "code",
      "source": [
        "# separating target variable\n",
        "target = np.log(stores['Sales'])"
      ],
      "execution_count": 0,
      "outputs": []
    },
    {
      "metadata": {
        "id": "oyC-7oXwqk1T",
        "colab_type": "code",
        "colab": {}
      },
      "cell_type": "code",
      "source": [
        "stores.drop(['Sales', 'Customers', 'SalePerCust'], axis = 1, inplace = True)"
      ],
      "execution_count": 0,
      "outputs": []
    },
    {
      "metadata": {
        "id": "PzuJrg1ubWf4",
        "colab_type": "code",
        "colab": {}
      },
      "cell_type": "code",
      "source": [
        "# creating training and testing sets\n",
        "\n",
        "from sklearn.model_selection import train_test_split\n",
        "\n",
        "x_train, x_test, y_train, y_test = train_test_split(stores, target, test_size = 0.2)"
      ],
      "execution_count": 0,
      "outputs": []
    },
    {
      "metadata": {
        "id": "6en5BULyiGxI",
        "colab_type": "text"
      },
      "cell_type": "markdown",
      "source": [
        "## Building The Model"
      ]
    },
    {
      "metadata": {
        "id": "FNUOzSHli-pF",
        "colab_type": "code",
        "colab": {}
      },
      "cell_type": "code",
      "source": [
        "# defining a performance metric\n",
        "def rmspe(y, yhat):\n",
        "    rmspe = np.sqrt(np.mean(((y - yhat))**2))\n",
        "    return rmspe"
      ],
      "execution_count": 0,
      "outputs": []
    },
    {
      "metadata": {
        "id": "bcdx0D9lB0h1",
        "colab_type": "code",
        "colab": {
          "base_uri": "https://localhost:8080/",
          "height": 35
        },
        "outputId": "0722684d-30ba-4f5e-cee3-a67bf5f28507"
      },
      "cell_type": "code",
      "source": [
        "from xgboost.sklearn import XGBRegressor \n",
        "\n",
        "model = XGBRegressor()\n",
        "model.fit(x_train, y_train)\n",
        "preds = model.predict(x_test)\n",
        "err = rmspe(y_test, preds)\n",
        "print('RMSPE: {}'.format(err))"
      ],
      "execution_count": 62,
      "outputs": [
        {
          "output_type": "stream",
          "text": [
            "RMSPE: 0.32713106599687236\n"
          ],
          "name": "stdout"
        }
      ]
    },
    {
      "metadata": {
        "id": "S27zCJoNNpoz",
        "colab_type": "code",
        "colab": {
          "base_uri": "https://localhost:8080/",
          "height": 35
        },
        "outputId": "79404ffd-7676-463b-e564-6384fa28a71b"
      },
      "cell_type": "code",
      "source": [
        "from sklearn.ensemble import RandomForestRegressor\n",
        "\n",
        "model = RandomForestRegressor()\n",
        "model.fit(x_train, y_train)\n",
        "preds = model.predict(x_test)\n",
        "err = rmspe(y_test, preds)\n",
        "print('RMSPE: {}'.format(err))"
      ],
      "execution_count": 63,
      "outputs": [
        {
          "output_type": "stream",
          "text": [
            "RMSPE: 0.1306614019145059\n"
          ],
          "name": "stdout"
        }
      ]
    },
    {
      "metadata": {
        "id": "oTdrjUuNhMUq",
        "colab_type": "code",
        "colab": {}
      },
      "cell_type": "code",
      "source": [
        "#from sklearn.model_selection import RandomizedSearchCV\n",
        "\n",
        "#params = {'n_estimators' : [120,300,500,800,1200], 'max_depth' : [5,8,12,25,30, None], 'min_samples_split' : [2,5,10,15,100], 'min_samples_leaf' : [1,2,5,10], 'max_features' : ['log2', 'sqrt', None]}\n",
        "\n",
        "#grid_obj = RandomizedSearchCV(estimator = model, param_distributions=params,cv=10)\n",
        "#grid_fit = grid_obj.fit(x_train, y_train)\n",
        "#best_model = grid_fit.best_estimator_\n",
        "#bestpreds = best_model.predict(x_test)\n",
        "\n",
        "#err = rmspe(y_test, bestpreds)\n",
        "#print('RMSPE: {}'.format(err))"
      ],
      "execution_count": 0,
      "outputs": []
    },
    {
      "metadata": {
        "id": "uWoZ-w7zCkSS",
        "colab_type": "text"
      },
      "cell_type": "markdown",
      "source": [
        "RandomForestRegressor gives a considerably low rmspe (0.13) than XGBRegressor. 0.13 is actually very good for a baseline model. Given the proper computational power, hyperparameters for this model could be tuned using grid search or randomized search to get even better predictions."
      ]
    },
    {
      "metadata": {
        "id": "NcNmH8EdDdPx",
        "colab_type": "text"
      },
      "cell_type": "markdown",
      "source": [
        "## Feature Importance"
      ]
    },
    {
      "metadata": {
        "id": "mvUd8yAqDvuj",
        "colab_type": "code",
        "colab": {
          "base_uri": "https://localhost:8080/",
          "height": 469
        },
        "outputId": "bb23ea15-755e-4173-87ae-4062021a9389"
      },
      "cell_type": "code",
      "source": [
        "feature_importances = pd.DataFrame(model.feature_importances_,index = x_train.columns, columns=['importance']).sort_values('importance', ascending=True)\n",
        "feature_importances.plot(kind = 'barh', figsize = (10,7), legend = False)\n",
        "plt.ylabel('Feature', fontsize = 12)\n",
        "plt.xlabel('Importance', fontsize = 12)\n",
        "plt.title('Feature Importance', fontsize = 15, y = 1.02)\n",
        "plt.show()"
      ],
      "execution_count": 85,
      "outputs": [
        {
          "output_type": "display_data",
          "data": {
            "image/png": "[encoded data removed]",
            "text/plain": [
              "<matplotlib.figure.Figure at 0x7fab9b30bb70>"
            ]
          },
          "metadata": {
            "tags": []
          }
        }
      ]
    },
    {
      "metadata": {
        "id": "U6oyFBV5Gf_k",
        "colab_type": "text"
      },
      "cell_type": "markdown",
      "source": [
        "Here, we can see that the type of store or the kind of assortments it has very little importance when it comes to sales. Features such as competition distance, store, promo, how long competition has been open and the day of the week are much more important."
      ]
    },
    {
      "metadata": {
        "id": "rk0FmaAaE_qw",
        "colab_type": "code",
        "colab": {}
      },
      "cell_type": "code",
      "source": [
        ""
      ],
      "execution_count": 0,
      "outputs": []
    }
  ]
}